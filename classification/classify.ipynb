{
 "cells": [
  {
   "cell_type": "markdown",
   "metadata": {},
   "source": [
    "# Imports\n",
    "---"
   ]
  },
  {
   "cell_type": "code",
   "execution_count": null,
   "metadata": {},
   "outputs": [],
   "source": [
    "from scipy.io import loadmat\n",
    "from scipy.signal import welch, butter, lfilter\n",
    "import numpy as np\n",
    "import matplotlib.pyplot as plt\n",
    "from numpy.lib.stride_tricks import as_strided\n",
    "import itertools\n",
    "from matplotlib.patches import Patch\n",
    "%matplotlib inline"
   ]
  },
  {
   "cell_type": "code",
   "execution_count": null,
   "metadata": {},
   "outputs": [],
   "source": [
    "from sklearn.model_selection import cross_val_score\n",
    "from sklearn.metrics import confusion_matrix\n",
    "from sklearn.discriminant_analysis import LinearDiscriminantAnalysis, QuadraticDiscriminantAnalysis\n",
    "import numpy as np"
   ]
  },
  {
   "cell_type": "markdown",
   "metadata": {},
   "source": [
    "# Verify Original Data\n",
    "---"
   ]
  },
  {
   "cell_type": "code",
   "execution_count": null,
   "metadata": {},
   "outputs": [],
   "source": [
    "data = loadmat('../p3_subjectData.mat')\n",
    "fs = data['subjectData'][0,0][0][0,0][1][0,0][0][0,0]\n",
    "sensors = np.concatenate(data['subjectData'][0,0][0][0,0][1][0,0][1][:,0])\n",
    "trialTypes = ['Flx','Ext','Rst']"
   ]
  },
  {
   "cell_type": "code",
   "execution_count": null,
   "metadata": {},
   "outputs": [],
   "source": [
    "def generateData(period,run):\n",
    "    subject = data['subjectData'][0,0]\n",
    "    p = subject[period]\n",
    "    r = p[0,run]\n",
    "    header = r[1][0,0]\n",
    "    assert(np.array_equal(sensors,np.concatenate(header[1][:,0])))\n",
    "    assert(fs==header[0][0,0])\n",
    "    timestamps = header[2][0,0][1]\n",
    "    return r[0][timestamps[0,0]:timestamps[-1,0]], header[2][0,0][0][3:-1:5,0]//100-1, timestamps[1:-1].reshape(-1,5)\n",
    "\n",
    "def filterTrials(period,run,motion):\n",
    "    eeg, motions, timestamps = generateData(period,run)\n",
    "    return eeg, timestamps[motions==motion]"
   ]
  },
  {
   "cell_type": "code",
   "execution_count": null,
   "metadata": {},
   "outputs": [],
   "source": [
    "eeg, motions, timestamps = generateData(0,0)"
   ]
  },
  {
   "cell_type": "code",
   "execution_count": null,
   "metadata": {},
   "outputs": [],
   "source": [
    "window = 1000\n",
    "overlap = 900\n",
    "def rolling_window(a, window, overlap):\n",
    "    shape = (int((a.shape[0] - overlap)/(window-overlap)), window) + a.shape[1:]\n",
    "    strides = (a.strides[0]*(window-overlap),)+a.strides\n",
    "    return as_strided(a, shape=shape, strides=strides)\n",
    "def mav(eeg):\n",
    "    return rolling_window(np.abs(eeg), window, overlap).mean(axis=1)"
   ]
  },
  {
   "cell_type": "code",
   "execution_count": null,
   "metadata": {},
   "outputs": [],
   "source": [
    "for i in range(32):\n",
    "    plt.plot(eeg[:,i])"
   ]
  },
  {
   "cell_type": "markdown",
   "metadata": {},
   "source": [
    "# Import Data\n",
    "---"
   ]
  },
  {
   "cell_type": "code",
   "execution_count": null,
   "metadata": {},
   "outputs": [],
   "source": [
    "def load(name):\n",
    "    return loadmat(f'features/{name}.mat')[name]\n",
    "def rolling_window(a, window, overlap):\n",
    "    shape = (int((a.shape[0] - overlap)/(window-overlap)), window) + a.shape[1:]\n",
    "    strides = (a.strides[0]*(window-overlap),)+a.strides\n",
    "    return as_strided(a, shape=shape, strides=strides)\n",
    "def mav(eeg):\n",
    "    return rolling_window(np.abs(eeg), window, overlap).mean(axis=1)"
   ]
  },
  {
   "cell_type": "code",
   "execution_count": null,
   "metadata": {},
   "outputs": [],
   "source": [
    "sub1pre = load('sub1PRE_DATA')\n",
    "sub1post = load('sub1POST_DATA')\n",
    "nsensors = sub1pre.shape[1]\n",
    "ntrials = sub1pre.shape[2]\n",
    "sub1pre = mav(sub1pre).T\n",
    "sub1post = mav(sub1post).T"
   ]
  },
  {
   "cell_type": "code",
   "execution_count": null,
   "metadata": {},
   "outputs": [],
   "source": [
    "fig,ax = plt.subplots(1,2)\n",
    "ax[0].imshow(sub1pre[0,:,:],vmin=0, vmax=4.7)\n",
    "ax[1].imshow(sub1post[0,:,:],vmin=0, vmax=4.7)\n",
    "plt.show()"
   ]
  },
  {
   "cell_type": "code",
   "execution_count": null,
   "metadata": {},
   "outputs": [],
   "source": [
    "sub1all = np.vstack((sub1pre,sub1post)).reshape(-1,sub1pre.shape[1]*sub1pre.shape[2])\n",
    "labels = np.concatenate((np.zeros(sub1pre.shape[0]),np.ones(sub1post.shape[0])))"
   ]
  },
  {
   "cell_type": "code",
   "execution_count": null,
   "metadata": {},
   "outputs": [],
   "source": [
    "print(f'LDA accuracy: {cross_val_score(LinearDiscriminantAnalysis(),sub1all,labels,cv=15).mean():.4f}')\n",
    "print(f'QDA accuracy: {cross_val_score(QuadraticDiscriminantAnalysis(),sub1all,labels,cv=15).mean():.4f}')"
   ]
  },
  {
   "cell_type": "code",
   "execution_count": null,
   "metadata": {},
   "outputs": [],
   "source": [
    "def classify(sig1,sig2):\n",
    "    clf = LinearDiscriminantAnalysis().fit()"
   ]
  }
 ],
 "metadata": {
  "kernelspec": {
   "display_name": "Python 3",
   "language": "python",
   "name": "python3"
  },
  "language_info": {
   "codemirror_mode": {
    "name": "ipython",
    "version": 3
   },
   "file_extension": ".py",
   "mimetype": "text/x-python",
   "name": "python",
   "nbconvert_exporter": "python",
   "pygments_lexer": "ipython3",
   "version": "3.8.8"
  }
 },
 "nbformat": 4,
 "nbformat_minor": 4
}
